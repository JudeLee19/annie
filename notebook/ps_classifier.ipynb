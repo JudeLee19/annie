{
 "cells": [
  {
   "cell_type": "markdown",
   "metadata": {},
   "source": [
    "인명 분류기\n",
    "====\n",
    "\n",
    "* 음절 길이가 3이고 품사 태그가 NNP인 단일 형태소에 대해 인명 여부를 분류하는 분류기\n",
    "* word2vec은 주최측에서 제공하는 것을 사용 (위키로부터 추출)\n",
    "* 주변 문맥을 이용하여 자질을 추출하여 SVM을 이용하여 구현"
   ]
  },
  {
   "cell_type": "code",
   "execution_count": 1,
   "metadata": {
    "collapsed": true
   },
   "outputs": [],
   "source": [
    "from __future__ import unicode_literals\n",
    "from __future__ import print_function\n",
    "\n",
    "import sys\n",
    "sys.path.append('../lib')\n",
    "import word2vec\n",
    "import sentence"
   ]
  },
  {
   "cell_type": "code",
   "execution_count": 2,
   "metadata": {
    "collapsed": false
   },
   "outputs": [],
   "source": [
    "# word2vec을 읽어들인다.\n",
    "\n",
    "w2v_dic = word2vec.load('../data/word2vec.pkl')"
   ]
  },
  {
   "cell_type": "code",
   "execution_count": 3,
   "metadata": {
    "collapsed": true
   },
   "outputs": [],
   "source": [
    "# JSON 문서(train/dev)를 읽어들인다.\n",
    "\n",
    "import json\n",
    "\n",
    "dev_json = json.load(open('../data/distribution2016/dev.json'))\n",
    "train_json = json.load(open('../data/distribution2016/train.json'))"
   ]
  },
  {
   "cell_type": "code",
   "execution_count": 4,
   "metadata": {
    "collapsed": false,
    "scrolled": false
   },
   "outputs": [],
   "source": [
    "# 학습 집합을 생성하는 함수\n",
    "\n",
    "def feature_label(w2v_dic, sentences, window):\n",
    "    \"\"\"\n",
    "    get features and labels from corpus\n",
    "    :param  w2v_dic:    word2vec dictionary\n",
    "    :param  sentences:  sentences JSON array\n",
    "    :param  window:     window size\n",
    "    :return:            (features, labels) pair\n",
    "    \"\"\"\n",
    "    features = []\n",
    "    labels = []\n",
    "    for sent_obj in sentences:\n",
    "        sent = sentence.Sentence(sent_obj)\n",
    "        for morp in sent.morps:\n",
    "            if len(morp.lemma()) != 3 or morp.tag() != 'NNP':\n",
    "                continue\n",
    "            feature = []\n",
    "            for win_idx in range(-window, window+1):\n",
    "                morp_idx = morp.id() + win_idx\n",
    "                if morp_idx < 0 or morp_idx >= len(sent.morps):\n",
    "                    vec = word2vec.eos(w2v_dic)\n",
    "                else:\n",
    "                    vec = word2vec.get(w2v_dic, sent.morps[morp_idx].lemma(), sent.morps[morp_idx].tag())\n",
    "                feature += vec\n",
    "            features.append(feature)\n",
    "            labels.append(1 if sent.is_person(morp.id()) else 0)\n",
    "    return features, labels"
   ]
  },
  {
   "cell_type": "markdown",
   "metadata": {},
   "source": [
    "SVM Classifier 비교\n",
    "----"
   ]
  },
  {
   "cell_type": "code",
   "execution_count": 5,
   "metadata": {
    "collapsed": false
   },
   "outputs": [
    {
     "name": "stdout",
     "output_type": "stream",
     "text": [
      "(0) 0.841134\n",
      "[ 0.75945017  0.87628866  0.84536082  0.88659794  0.85223368  0.83161512\n",
      "  0.82130584  0.83848797  0.87241379  0.82758621]\n",
      "\n",
      "(1) 0.849041\n",
      "[ 0.76975945  0.87628866  0.85223368  0.89003436  0.86941581  0.83848797\n",
      "  0.83505155  0.84879725  0.87241379  0.83793103]\n",
      "\n",
      "(2) 0.847328\n",
      "[ 0.81099656  0.86254296  0.84536082  0.83505155  0.82817869  0.82817869\n",
      "  0.87972509  0.85910653  0.86896552  0.85517241]\n",
      "\n"
     ]
    }
   ],
   "source": [
    "# 윈도우를 2로 고정하고 SVM classifier 별 성능 비교\n",
    "\n",
    "from sklearn import cross_validation\n",
    "from sklearn import svm\n",
    "\n",
    "X_train, y_train = feature_label(w2v_dic, train_json['sentence'], 2)\n",
    "for idx, clf in enumerate([svm.SVC(), svm.NuSVC(), svm.LinearSVC()]):\n",
    "    scores = cross_validation.cross_val_score(clf, X_train, y_train, cv=10)\n",
    "    print('(%d) %f' % (idx, scores.mean()))\n",
    "    print(scores)\n",
    "    print()"
   ]
  },
  {
   "cell_type": "markdown",
   "metadata": {},
   "source": [
    "큰 차이는 없지만 NuSVC가 가장 좋다."
   ]
  },
  {
   "cell_type": "markdown",
   "metadata": {},
   "source": [
    "윈도우 크기별\n",
    "----"
   ]
  },
  {
   "cell_type": "code",
   "execution_count": 6,
   "metadata": {
    "collapsed": false
   },
   "outputs": [
    {
     "name": "stdout",
     "output_type": "stream",
     "text": [
      "(0) 0.815007\n",
      "[ 0.73539519  0.81099656  0.80756014  0.85223368  0.82474227  0.79381443\n",
      "  0.82130584  0.83505155  0.86551724  0.80344828]\n",
      "\n",
      "(1) 0.843538\n",
      "[ 0.75601375  0.8556701   0.83505155  0.89347079  0.87285223  0.83848797\n",
      "  0.83161512  0.8556701   0.86551724  0.83103448]\n",
      "\n",
      "(2) 0.849041\n",
      "[ 0.76975945  0.87628866  0.85223368  0.89003436  0.86941581  0.83848797\n",
      "  0.83505155  0.84879725  0.87241379  0.83793103]\n",
      "\n",
      "(3) 0.844234\n",
      "[ 0.76632302  0.87285223  0.84879725  0.84536082  0.86941581  0.83848797\n",
      "  0.83161512  0.84879725  0.87586207  0.84482759]\n",
      "\n",
      "(4) 0.844926\n",
      "[ 0.7628866   0.86941581  0.85910653  0.8419244   0.87285223  0.84879725\n",
      "  0.81443299  0.84536082  0.87931034  0.85517241]\n",
      "\n"
     ]
    }
   ],
   "source": [
    "# SVM classifier를 NuSVC로 고정하고 윈도우 크기별 성능 비교\n",
    "\n",
    "from sklearn import cross_validation\n",
    "from sklearn import svm\n",
    "\n",
    "for window in range(5):\n",
    "    X_train, y_train = feature_label(w2v_dic, train_json['sentence'], window)\n",
    "    scores = cross_validation.cross_val_score(svm.NuSVC(), X_train, y_train, cv=10)\n",
    "    print('(%d) %f' % (window, scores.mean()))\n",
    "    print(scores)\n",
    "    print()"
   ]
  },
  {
   "cell_type": "markdown",
   "metadata": {
    "collapsed": true
   },
   "source": [
    "역시 큰 차이는 없지만 2가 가장 적당하다."
   ]
  },
  {
   "cell_type": "markdown",
   "metadata": {
    "collapsed": true
   },
   "source": [
    "평가\n",
    "===="
   ]
  },
  {
   "cell_type": "code",
   "execution_count": 7,
   "metadata": {
    "collapsed": false
   },
   "outputs": [
    {
     "data": {
      "text/plain": [
       "0.89635316698656431"
      ]
     },
     "execution_count": 7,
     "metadata": {},
     "output_type": "execute_result"
    }
   ],
   "source": [
    "# train 전체로 학습하여 dev 코퍼스에 평가한다.\n",
    "\n",
    "from sklearn.metrics import accuracy_score\n",
    "from sklearn import svm\n",
    "\n",
    "X_train, y_train = feature_label(w2v_dic, train_json['sentence'], 2)\n",
    "clf = svm.NuSVC()\n",
    "clf.fit(X_train, y_train)\n",
    "\n",
    "X_dev, y_dev = feature_label(w2v_dic, dev_json['sentence'], 2)\n",
    "y_predict = clf.predict(X_dev)\n",
    "accuracy_score(y_dev, y_predict)"
   ]
  },
  {
   "cell_type": "code",
   "execution_count": null,
   "metadata": {
    "collapsed": true
   },
   "outputs": [],
   "source": []
  }
 ],
 "metadata": {
  "kernelspec": {
   "display_name": "Python 2",
   "language": "python",
   "name": "python2"
  },
  "language_info": {
   "codemirror_mode": {
    "name": "ipython",
    "version": 2
   },
   "file_extension": ".py",
   "mimetype": "text/x-python",
   "name": "python",
   "nbconvert_exporter": "python",
   "pygments_lexer": "ipython2",
   "version": "2.7.10"
  }
 },
 "nbformat": 4,
 "nbformat_minor": 0
}

{
 "cells": [
  {
   "cell_type": "markdown",
   "metadata": {},
   "source": [
    "Annie\n",
    "====\n",
    "\n",
    "### A Statistical Korean Named Entity Recognizer\n",
    "\n",
    "* 2016년 9월\n",
    "* 임재수 krikit@naver.com"
   ]
  },
  {
   "cell_type": "markdown",
   "metadata": {},
   "source": [
    "차례\n",
    "----\n",
    "1. 통계적 개체명 인식 개요\n",
    "2. 사전 매칭 (Baseline)\n",
    "3. CRF 기반 개체명 인식기\n",
    "4. SVM 기반 인명 분류기\n",
    "5. 결론"
   ]
  },
  {
   "cell_type": "markdown",
   "metadata": {},
   "source": [
    "1. 통계적 개체명 인식 개요\n",
    "----\n",
    "\n",
    "### [IOB2 태깅](https://en.wikipedia.org/wiki/Inside_Outside_Beginning)\n",
    "\n",
    "```\n",
    "The IOB format (short for Inside, Outside, Beginning) is a common tagging format for tagging tokens in a chunking task in computational linguistics (ex. Named Entity Recognition).\n",
    "-- from Wikipedia\n",
    "```\n",
    "\n",
    "* 예\n",
    "\n",
    "| 형태소  | 태그 |\n",
    "|--------|-----|\n",
    "| 박항서  | B-PS |\n",
    "| 전남    | B-OG |\n",
    "| 드래곤즈 | I-OG |\n",
    "| 감독    | O    |\n",
    "\n",
    "* 개체명을 인식하는 문제 => 개체명의 경계와 종류를 결정하는 문제 => 각 형태소의 IOB2 태그를 분류하는 문제"
   ]
  },
  {
   "cell_type": "code",
   "execution_count": null,
   "metadata": {
    "collapsed": true
   },
   "outputs": [],
   "source": []
  }
 ],
 "metadata": {
  "kernelspec": {
   "display_name": "Python 2",
   "language": "python",
   "name": "python2"
  },
  "language_info": {
   "codemirror_mode": {
    "name": "ipython",
    "version": 2
   },
   "file_extension": ".py",
   "mimetype": "text/x-python",
   "name": "python",
   "nbconvert_exporter": "python",
   "pygments_lexer": "ipython2",
   "version": "2.7.10"
  }
 },
 "nbformat": 4,
 "nbformat_minor": 0
}
